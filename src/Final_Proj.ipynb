{
 "cells": [
  {
   "attachments": {},
   "cell_type": "markdown",
   "metadata": {},
   "source": [
    "# <strong>STOR 515 Final Project</strong>\n",
    "Fraud Detection Using Randomized Weighted Majority Algorithm\\\n",
    "Group 2:\\\n",
    "Zenan Ji\\\n",
    "Xinyue Xing\\\n",
    "William Li\\\n",
    "Zhan Lin"
   ]
  },
  {
   "attachments": {},
   "cell_type": "markdown",
   "metadata": {},
   "source": [
    "## Library importing and data loading"
   ]
  },
  {
   "cell_type": "code",
   "execution_count": 22,
   "metadata": {},
   "outputs": [],
   "source": [
    "import os\n",
    "import matplotlib.pyplot as plt\n",
    "import pandas as pd\n",
    "import numpy as np\n",
    "from sklearn.model_selection import train_test_split\n",
    "from sklearn.preprocessing import RobustScaler\n",
    "from sklearn.tree import DecisionTreeClassifier\n",
    "from sklearn.ensemble import RandomForestClassifier\n",
    "from sklearn.utils import resample\n",
    "from sklearn.linear_model import LogisticRegressionCV, SGDClassifier\n",
    "from sklearn.naive_bayes import GaussianNB\n",
    "from sklearn.neighbors import KNeighborsClassifier\n",
    "from sklearn.metrics import roc_auc_score, roc_curve, accuracy_score, classification_report, confusion_matrix"
   ]
  },
  {
   "cell_type": "code",
   "execution_count": 2,
   "metadata": {},
   "outputs": [
    {
     "data": {
      "text/html": [
       "<div>\n",
       "<style scoped>\n",
       "    .dataframe tbody tr th:only-of-type {\n",
       "        vertical-align: middle;\n",
       "    }\n",
       "\n",
       "    .dataframe tbody tr th {\n",
       "        vertical-align: top;\n",
       "    }\n",
       "\n",
       "    .dataframe thead th {\n",
       "        text-align: right;\n",
       "    }\n",
       "</style>\n",
       "<table border=\"1\" class=\"dataframe\">\n",
       "  <thead>\n",
       "    <tr style=\"text-align: right;\">\n",
       "      <th></th>\n",
       "      <th>distance_from_home</th>\n",
       "      <th>distance_from_last_transaction</th>\n",
       "      <th>ratio_to_median_purchase_price</th>\n",
       "      <th>repeat_retailer</th>\n",
       "      <th>used_chip</th>\n",
       "      <th>used_pin_number</th>\n",
       "      <th>online_order</th>\n",
       "      <th>fraud</th>\n",
       "    </tr>\n",
       "  </thead>\n",
       "  <tbody>\n",
       "    <tr>\n",
       "      <th>0</th>\n",
       "      <td>57.877857</td>\n",
       "      <td>0.311140</td>\n",
       "      <td>1.945940</td>\n",
       "      <td>1.0</td>\n",
       "      <td>1.0</td>\n",
       "      <td>0.0</td>\n",
       "      <td>0.0</td>\n",
       "      <td>0.0</td>\n",
       "    </tr>\n",
       "    <tr>\n",
       "      <th>1</th>\n",
       "      <td>10.829943</td>\n",
       "      <td>0.175592</td>\n",
       "      <td>1.294219</td>\n",
       "      <td>1.0</td>\n",
       "      <td>0.0</td>\n",
       "      <td>0.0</td>\n",
       "      <td>0.0</td>\n",
       "      <td>0.0</td>\n",
       "    </tr>\n",
       "    <tr>\n",
       "      <th>2</th>\n",
       "      <td>5.091079</td>\n",
       "      <td>0.805153</td>\n",
       "      <td>0.427715</td>\n",
       "      <td>1.0</td>\n",
       "      <td>0.0</td>\n",
       "      <td>0.0</td>\n",
       "      <td>1.0</td>\n",
       "      <td>0.0</td>\n",
       "    </tr>\n",
       "    <tr>\n",
       "      <th>3</th>\n",
       "      <td>2.247564</td>\n",
       "      <td>5.600044</td>\n",
       "      <td>0.362663</td>\n",
       "      <td>1.0</td>\n",
       "      <td>1.0</td>\n",
       "      <td>0.0</td>\n",
       "      <td>1.0</td>\n",
       "      <td>0.0</td>\n",
       "    </tr>\n",
       "    <tr>\n",
       "      <th>4</th>\n",
       "      <td>44.190936</td>\n",
       "      <td>0.566486</td>\n",
       "      <td>2.222767</td>\n",
       "      <td>1.0</td>\n",
       "      <td>1.0</td>\n",
       "      <td>0.0</td>\n",
       "      <td>1.0</td>\n",
       "      <td>0.0</td>\n",
       "    </tr>\n",
       "  </tbody>\n",
       "</table>\n",
       "</div>"
      ],
      "text/plain": [
       "   distance_from_home  distance_from_last_transaction   \n",
       "0           57.877857                        0.311140  \\\n",
       "1           10.829943                        0.175592   \n",
       "2            5.091079                        0.805153   \n",
       "3            2.247564                        5.600044   \n",
       "4           44.190936                        0.566486   \n",
       "\n",
       "   ratio_to_median_purchase_price  repeat_retailer  used_chip   \n",
       "0                        1.945940              1.0        1.0  \\\n",
       "1                        1.294219              1.0        0.0   \n",
       "2                        0.427715              1.0        0.0   \n",
       "3                        0.362663              1.0        1.0   \n",
       "4                        2.222767              1.0        1.0   \n",
       "\n",
       "   used_pin_number  online_order  fraud  \n",
       "0              0.0           0.0    0.0  \n",
       "1              0.0           0.0    0.0  \n",
       "2              0.0           1.0    0.0  \n",
       "3              0.0           1.0    0.0  \n",
       "4              0.0           1.0    0.0  "
      ]
     },
     "execution_count": 2,
     "metadata": {},
     "output_type": "execute_result"
    }
   ],
   "source": [
    "df = pd.read_csv('../data/card_transdata.csv')\n",
    "df.head()"
   ]
  },
  {
   "attachments": {},
   "cell_type": "markdown",
   "metadata": {},
   "source": [
    "## Data Processing"
   ]
  },
  {
   "cell_type": "code",
   "execution_count": 3,
   "metadata": {},
   "outputs": [
    {
     "data": {
      "text/plain": [
       "distance_from_home                0\n",
       "distance_from_last_transaction    0\n",
       "ratio_to_median_purchase_price    0\n",
       "repeat_retailer                   0\n",
       "used_chip                         0\n",
       "used_pin_number                   0\n",
       "online_order                      0\n",
       "fraud                             0\n",
       "dtype: int64"
      ]
     },
     "execution_count": 3,
     "metadata": {},
     "output_type": "execute_result"
    }
   ],
   "source": [
    "# check for null in each column\n",
    "df.isnull().sum()"
   ]
  },
  {
   "cell_type": "code",
   "execution_count": 4,
   "metadata": {},
   "outputs": [
    {
     "data": {
      "text/plain": [
       "distance_from_home                float64\n",
       "distance_from_last_transaction    float64\n",
       "ratio_to_median_purchase_price    float64\n",
       "repeat_retailer                   float64\n",
       "used_chip                         float64\n",
       "used_pin_number                   float64\n",
       "online_order                      float64\n",
       "fraud                             float64\n",
       "dtype: object"
      ]
     },
     "execution_count": 4,
     "metadata": {},
     "output_type": "execute_result"
    }
   ],
   "source": [
    "# check data types of each column\n",
    "df.dtypes"
   ]
  },
  {
   "cell_type": "code",
   "execution_count": 5,
   "metadata": {},
   "outputs": [],
   "source": [
    "# convert the binary columns into Int type\n",
    "num_cols = ['distance_from_home', 'distance_from_last_transaction', 'ratio_to_median_purchase_price']\n",
    "cat_cols = ['repeat_retailer', 'used_chip', 'used_pin_number', 'online_order', 'fraud']\n",
    "for col in cat_cols:\n",
    "  df[col] = df[col].astype('int')"
   ]
  },
  {
   "cell_type": "code",
   "execution_count": 6,
   "metadata": {},
   "outputs": [
    {
     "data": {
      "text/html": [
       "<div>\n",
       "<style scoped>\n",
       "    .dataframe tbody tr th:only-of-type {\n",
       "        vertical-align: middle;\n",
       "    }\n",
       "\n",
       "    .dataframe tbody tr th {\n",
       "        vertical-align: top;\n",
       "    }\n",
       "\n",
       "    .dataframe thead th {\n",
       "        text-align: right;\n",
       "    }\n",
       "</style>\n",
       "<table border=\"1\" class=\"dataframe\">\n",
       "  <thead>\n",
       "    <tr style=\"text-align: right;\">\n",
       "      <th></th>\n",
       "      <th>distance_from_home</th>\n",
       "      <th>distance_from_last_transaction</th>\n",
       "      <th>ratio_to_median_purchase_price</th>\n",
       "    </tr>\n",
       "  </thead>\n",
       "  <tbody>\n",
       "    <tr>\n",
       "      <th>count</th>\n",
       "      <td>1000000.000000</td>\n",
       "      <td>1000000.000000</td>\n",
       "      <td>1000000.000000</td>\n",
       "    </tr>\n",
       "    <tr>\n",
       "      <th>mean</th>\n",
       "      <td>26.628792</td>\n",
       "      <td>5.036519</td>\n",
       "      <td>1.824182</td>\n",
       "    </tr>\n",
       "    <tr>\n",
       "      <th>std</th>\n",
       "      <td>65.390784</td>\n",
       "      <td>25.843093</td>\n",
       "      <td>2.799589</td>\n",
       "    </tr>\n",
       "    <tr>\n",
       "      <th>min</th>\n",
       "      <td>0.004874</td>\n",
       "      <td>0.000118</td>\n",
       "      <td>0.004399</td>\n",
       "    </tr>\n",
       "    <tr>\n",
       "      <th>25%</th>\n",
       "      <td>3.878008</td>\n",
       "      <td>0.296671</td>\n",
       "      <td>0.475673</td>\n",
       "    </tr>\n",
       "    <tr>\n",
       "      <th>50%</th>\n",
       "      <td>9.967760</td>\n",
       "      <td>0.998650</td>\n",
       "      <td>0.997717</td>\n",
       "    </tr>\n",
       "    <tr>\n",
       "      <th>75%</th>\n",
       "      <td>25.743985</td>\n",
       "      <td>3.355748</td>\n",
       "      <td>2.096370</td>\n",
       "    </tr>\n",
       "    <tr>\n",
       "      <th>max</th>\n",
       "      <td>10632.723672</td>\n",
       "      <td>11851.104565</td>\n",
       "      <td>267.802942</td>\n",
       "    </tr>\n",
       "  </tbody>\n",
       "</table>\n",
       "</div>"
      ],
      "text/plain": [
       "       distance_from_home  distance_from_last_transaction   \n",
       "count      1000000.000000                  1000000.000000  \\\n",
       "mean            26.628792                        5.036519   \n",
       "std             65.390784                       25.843093   \n",
       "min              0.004874                        0.000118   \n",
       "25%              3.878008                        0.296671   \n",
       "50%              9.967760                        0.998650   \n",
       "75%             25.743985                        3.355748   \n",
       "max          10632.723672                    11851.104565   \n",
       "\n",
       "       ratio_to_median_purchase_price  \n",
       "count                  1000000.000000  \n",
       "mean                         1.824182  \n",
       "std                          2.799589  \n",
       "min                          0.004399  \n",
       "25%                          0.475673  \n",
       "50%                          0.997717  \n",
       "75%                          2.096370  \n",
       "max                        267.802942  "
      ]
     },
     "execution_count": 6,
     "metadata": {},
     "output_type": "execute_result"
    }
   ],
   "source": [
    "# check the statistics of each numerical column\n",
    "df[num_cols].describe()"
   ]
  },
  {
   "cell_type": "code",
   "execution_count": 7,
   "metadata": {},
   "outputs": [
    {
     "data": {
      "text/plain": [
       "<Axes: xlabel='Fraud or Not', ylabel='Count'>"
      ]
     },
     "execution_count": 7,
     "metadata": {},
     "output_type": "execute_result"
    },
    {
     "data": {
      "image/png": "[encoded data removed]",
      "text/plain": [
       "<Figure size 640x480 with 1 Axes>"
      ]
     },
     "metadata": {},
     "output_type": "display_data"
    }
   ],
   "source": [
    "df['fraud'].value_counts().plot(kind='bar', ylabel='Count', rot=0, xlabel = 'Fraud or Not')"
   ]
  },
  {
   "attachments": {},
   "cell_type": "markdown",
   "metadata": {},
   "source": [
    "The bar chart shows that the dataset is extremely imbalanced, so we should be aware to apply techniques like upsampling or downsampling when training and testing our models"
   ]
  },
  {
   "attachments": {},
   "cell_type": "markdown",
   "metadata": {},
   "source": [
    "## Model (expert) Training"
   ]
  },
  {
   "cell_type": "code",
   "execution_count": 8,
   "metadata": {
    "scrolled": true
   },
   "outputs": [],
   "source": [
    "# list the continuous and discrete features\n",
    "cont_features = ['distance_from_home', 'distance_from_last_transaction', 'ratio_to_median_purchase_price']\n",
    "discrete_features = list(set(cat_cols) - set(['fraud']))\n",
    "\n",
    "non_fraud = df[df['fraud'] == 0]\n",
    "is_fraud = df[df['fraud'] == 1]\n",
    "\n",
    "# downsample the dataset to ensure balance\n",
    "non_fraud_downsample = resample(non_fraud,\n",
    "             replace=True,\n",
    "             n_samples=len(is_fraud),\n",
    "             random_state=42)\n",
    "df_downsampled = pd.concat([is_fraud, non_fraud_downsample])\n",
    "\n",
    "scaler = RobustScaler()\n",
    "\n",
    "# turn dataset into matrices to be fed to the models\n",
    "X_cont = df_downsampled[cont_features].values\n",
    "X_disc = df_downsampled[discrete_features].values\n",
    "\n",
    "X = np.concatenate((X_cont, X_disc), axis = 1)\n",
    "y = df_downsampled['fraud'].values\n",
    "\n",
    "# train-test split\n",
    "X_train, X_test, y_train, y_test = train_test_split(X, y, random_state=42, train_size = .7)\n",
    "\n",
    "# normalize the numerical features to fit the models\n",
    "X_train[:, 0:3] = scaler.fit_transform(X_train[:, 0:3])\n",
    "X_test[:, 0:3]= scaler.fit_transform(X_test[:, 0:3])"
   ]
  },
  {
   "attachments": {},
   "cell_type": "markdown",
   "metadata": {},
   "source": [
    "### Logistic Regression"
   ]
  },
  {
   "cell_type": "code",
   "execution_count": 9,
   "metadata": {},
   "outputs": [
    {
     "data": {
      "text/html": [
       "<style>#sk-container-id-1 {color: black;background-color: white;}#sk-container-id-1 pre{padding: 0;}#sk-container-id-1 div.sk-toggleable {background-color: white;}#sk-container-id-1 label.sk-toggleable__label {cursor: pointer;display: block;width: 100%;margin-bottom: 0;padding: 0.3em;box-sizing: border-box;text-align: center;}#sk-container-id-1 label.sk-toggleable__label-arrow:before {content: \"▸\";float: left;margin-right: 0.25em;color: #696969;}#sk-container-id-1 label.sk-toggleable__label-arrow:hover:before {color: black;}#sk-container-id-1 div.sk-estimator:hover label.sk-toggleable__label-arrow:before {color: black;}#sk-container-id-1 div.sk-toggleable__content {max-height: 0;max-width: 0;overflow: hidden;text-align: left;background-color: #f0f8ff;}#sk-container-id-1 div.sk-toggleable__content pre {margin: 0.2em;color: black;border-radius: 0.25em;background-color: #f0f8ff;}#sk-container-id-1 input.sk-toggleable__control:checked~div.sk-toggleable__content {max-height: 200px;max-width: 100%;overflow: auto;}#sk-container-id-1 input.sk-toggleable__control:checked~label.sk-toggleable__label-arrow:before {content: \"▾\";}#sk-container-id-1 div.sk-estimator input.sk-toggleable__control:checked~label.sk-toggleable__label {background-color: #d4ebff;}#sk-container-id-1 div.sk-label input.sk-toggleable__control:checked~label.sk-toggleable__label {background-color: #d4ebff;}#sk-container-id-1 input.sk-hidden--visually {border: 0;clip: rect(1px 1px 1px 1px);clip: rect(1px, 1px, 1px, 1px);height: 1px;margin: -1px;overflow: hidden;padding: 0;position: absolute;width: 1px;}#sk-container-id-1 div.sk-estimator {font-family: monospace;background-color: #f0f8ff;border: 1px dotted black;border-radius: 0.25em;box-sizing: border-box;margin-bottom: 0.5em;}#sk-container-id-1 div.sk-estimator:hover {background-color: #d4ebff;}#sk-container-id-1 div.sk-parallel-item::after {content: \"\";width: 100%;border-bottom: 1px solid gray;flex-grow: 1;}#sk-container-id-1 div.sk-label:hover label.sk-toggleable__label {background-color: #d4ebff;}#sk-container-id-1 div.sk-serial::before {content: \"\";position: absolute;border-left: 1px solid gray;box-sizing: border-box;top: 0;bottom: 0;left: 50%;z-index: 0;}#sk-container-id-1 div.sk-serial {display: flex;flex-direction: column;align-items: center;background-color: white;padding-right: 0.2em;padding-left: 0.2em;position: relative;}#sk-container-id-1 div.sk-item {position: relative;z-index: 1;}#sk-container-id-1 div.sk-parallel {display: flex;align-items: stretch;justify-content: center;background-color: white;position: relative;}#sk-container-id-1 div.sk-item::before, #sk-container-id-1 div.sk-parallel-item::before {content: \"\";position: absolute;border-left: 1px solid gray;box-sizing: border-box;top: 0;bottom: 0;left: 50%;z-index: -1;}#sk-container-id-1 div.sk-parallel-item {display: flex;flex-direction: column;z-index: 1;position: relative;background-color: white;}#sk-container-id-1 div.sk-parallel-item:first-child::after {align-self: flex-end;width: 50%;}#sk-container-id-1 div.sk-parallel-item:last-child::after {align-self: flex-start;width: 50%;}#sk-container-id-1 div.sk-parallel-item:only-child::after {width: 0;}#sk-container-id-1 div.sk-dashed-wrapped {border: 1px dashed gray;margin: 0 0.4em 0.5em 0.4em;box-sizing: border-box;padding-bottom: 0.4em;background-color: white;}#sk-container-id-1 div.sk-label label {font-family: monospace;font-weight: bold;display: inline-block;line-height: 1.2em;}#sk-container-id-1 div.sk-label-container {text-align: center;}#sk-container-id-1 div.sk-container {/* jupyter's `normalize.less` sets `[hidden] { display: none; }` but bootstrap.min.css set `[hidden] { display: none !important; }` so we also need the `!important` here to be able to override the default hidden behavior on the sphinx rendered scikit-learn.org. See: https://github.com/scikit-learn/scikit-learn/issues/21755 */display: inline-block !important;position: relative;}#sk-container-id-1 div.sk-text-repr-fallback {display: none;}</style><div id=\"sk-container-id-1\" class=\"sk-top-container\"><div class=\"sk-text-repr-fallback\"><pre>LogisticRegressionCV()</pre><b>In a Jupyter environment, please rerun this cell to show the HTML representation or trust the notebook. <br />On GitHub, the HTML representation is unable to render, please try loading this page with nbviewer.org.</b></div><div class=\"sk-container\" hidden><div class=\"sk-item\"><div class=\"sk-estimator sk-toggleable\"><input class=\"sk-toggleable__control sk-hidden--visually\" id=\"sk-estimator-id-1\" type=\"checkbox\" checked><label for=\"sk-estimator-id-1\" class=\"sk-toggleable__label sk-toggleable__label-arrow\">LogisticRegressionCV</label><div class=\"sk-toggleable__content\"><pre>LogisticRegressionCV()</pre></div></div></div></div></div>"
      ],
      "text/plain": [
       "LogisticRegressionCV()"
      ]
     },
     "execution_count": 9,
     "metadata": {},
     "output_type": "execute_result"
    }
   ],
   "source": [
    "# initialize the model\n",
    "lr = LogisticRegressionCV()\n",
    "\n",
    "lr.fit(X_train, y_train)"
   ]
  },
  {
   "cell_type": "code",
   "execution_count": 219,
   "metadata": {},
   "outputs": [
    {
     "name": "stdout",
     "output_type": "stream",
     "text": [
      "Accuracy: 0.9422\n",
      "              precision    recall  f1-score   support\n",
      "\n",
      "   Non fraud     0.9503    0.9331    0.9416     26211\n",
      "       Fraud     0.9343    0.9513    0.9427     26231\n",
      "\n",
      "    accuracy                         0.9422     52442\n",
      "   macro avg     0.9423    0.9422    0.9422     52442\n",
      "weighted avg     0.9423    0.9422    0.9422     52442\n",
      "\n"
     ]
    }
   ],
   "source": [
    "y_pred_probs = lr.predict_proba(X_test)[:,1]\n",
    "\n",
    "y_lr_pred = y_pred_probs >= 0.5\n",
    "\n",
    "print('Accuracy: {:.4f}'.format(accuracy_score(y_test, y_lr_pred)))\n",
    "print(classification_report(y_test, y_lr_pred, target_names =['Non fraud', 'Fraud'], digits = 4))"
   ]
  },
  {
   "attachments": {},
   "cell_type": "markdown",
   "metadata": {},
   "source": [
    "### Naive Bayes"
   ]
  },
  {
   "cell_type": "code",
   "execution_count": 11,
   "metadata": {},
   "outputs": [
    {
     "data": {
      "text/html": [
       "<style>#sk-container-id-2 {color: black;background-color: white;}#sk-container-id-2 pre{padding: 0;}#sk-container-id-2 div.sk-toggleable {background-color: white;}#sk-container-id-2 label.sk-toggleable__label {cursor: pointer;display: block;width: 100%;margin-bottom: 0;padding: 0.3em;box-sizing: border-box;text-align: center;}#sk-container-id-2 label.sk-toggleable__label-arrow:before {content: \"▸\";float: left;margin-right: 0.25em;color: #696969;}#sk-container-id-2 label.sk-toggleable__label-arrow:hover:before {color: black;}#sk-container-id-2 div.sk-estimator:hover label.sk-toggleable__label-arrow:before {color: black;}#sk-container-id-2 div.sk-toggleable__content {max-height: 0;max-width: 0;overflow: hidden;text-align: left;background-color: #f0f8ff;}#sk-container-id-2 div.sk-toggleable__content pre {margin: 0.2em;color: black;border-radius: 0.25em;background-color: #f0f8ff;}#sk-container-id-2 input.sk-toggleable__control:checked~div.sk-toggleable__content {max-height: 200px;max-width: 100%;overflow: auto;}#sk-container-id-2 input.sk-toggleable__control:checked~label.sk-toggleable__label-arrow:before {content: \"▾\";}#sk-container-id-2 div.sk-estimator input.sk-toggleable__control:checked~label.sk-toggleable__label {background-color: #d4ebff;}#sk-container-id-2 div.sk-label input.sk-toggleable__control:checked~label.sk-toggleable__label {background-color: #d4ebff;}#sk-container-id-2 input.sk-hidden--visually {border: 0;clip: rect(1px 1px 1px 1px);clip: rect(1px, 1px, 1px, 1px);height: 1px;margin: -1px;overflow: hidden;padding: 0;position: absolute;width: 1px;}#sk-container-id-2 div.sk-estimator {font-family: monospace;background-color: #f0f8ff;border: 1px dotted black;border-radius: 0.25em;box-sizing: border-box;margin-bottom: 0.5em;}#sk-container-id-2 div.sk-estimator:hover {background-color: #d4ebff;}#sk-container-id-2 div.sk-parallel-item::after {content: \"\";width: 100%;border-bottom: 1px solid gray;flex-grow: 1;}#sk-container-id-2 div.sk-label:hover label.sk-toggleable__label {background-color: #d4ebff;}#sk-container-id-2 div.sk-serial::before {content: \"\";position: absolute;border-left: 1px solid gray;box-sizing: border-box;top: 0;bottom: 0;left: 50%;z-index: 0;}#sk-container-id-2 div.sk-serial {display: flex;flex-direction: column;align-items: center;background-color: white;padding-right: 0.2em;padding-left: 0.2em;position: relative;}#sk-container-id-2 div.sk-item {position: relative;z-index: 1;}#sk-container-id-2 div.sk-parallel {display: flex;align-items: stretch;justify-content: center;background-color: white;position: relative;}#sk-container-id-2 div.sk-item::before, #sk-container-id-2 div.sk-parallel-item::before {content: \"\";position: absolute;border-left: 1px solid gray;box-sizing: border-box;top: 0;bottom: 0;left: 50%;z-index: -1;}#sk-container-id-2 div.sk-parallel-item {display: flex;flex-direction: column;z-index: 1;position: relative;background-color: white;}#sk-container-id-2 div.sk-parallel-item:first-child::after {align-self: flex-end;width: 50%;}#sk-container-id-2 div.sk-parallel-item:last-child::after {align-self: flex-start;width: 50%;}#sk-container-id-2 div.sk-parallel-item:only-child::after {width: 0;}#sk-container-id-2 div.sk-dashed-wrapped {border: 1px dashed gray;margin: 0 0.4em 0.5em 0.4em;box-sizing: border-box;padding-bottom: 0.4em;background-color: white;}#sk-container-id-2 div.sk-label label {font-family: monospace;font-weight: bold;display: inline-block;line-height: 1.2em;}#sk-container-id-2 div.sk-label-container {text-align: center;}#sk-container-id-2 div.sk-container {/* jupyter's `normalize.less` sets `[hidden] { display: none; }` but bootstrap.min.css set `[hidden] { display: none !important; }` so we also need the `!important` here to be able to override the default hidden behavior on the sphinx rendered scikit-learn.org. See: https://github.com/scikit-learn/scikit-learn/issues/21755 */display: inline-block !important;position: relative;}#sk-container-id-2 div.sk-text-repr-fallback {display: none;}</style><div id=\"sk-container-id-2\" class=\"sk-top-container\"><div class=\"sk-text-repr-fallback\"><pre>GaussianNB()</pre><b>In a Jupyter environment, please rerun this cell to show the HTML representation or trust the notebook. <br />On GitHub, the HTML representation is unable to render, please try loading this page with nbviewer.org.</b></div><div class=\"sk-container\" hidden><div class=\"sk-item\"><div class=\"sk-estimator sk-toggleable\"><input class=\"sk-toggleable__control sk-hidden--visually\" id=\"sk-estimator-id-2\" type=\"checkbox\" checked><label for=\"sk-estimator-id-2\" class=\"sk-toggleable__label sk-toggleable__label-arrow\">GaussianNB</label><div class=\"sk-toggleable__content\"><pre>GaussianNB()</pre></div></div></div></div></div>"
      ],
      "text/plain": [
       "GaussianNB()"
      ]
     },
     "execution_count": 11,
     "metadata": {},
     "output_type": "execute_result"
    }
   ],
   "source": [
    "# initialize the model\n",
    "nb = GaussianNB()\n",
    "\n",
    "nb.fit(X_train, y_train)"
   ]
  },
  {
   "cell_type": "code",
   "execution_count": 218,
   "metadata": {},
   "outputs": [
    {
     "name": "stdout",
     "output_type": "stream",
     "text": [
      "Accuracy: 0.9374\n",
      "              precision    recall  f1-score   support\n",
      "\n",
      "   Non fraud     0.9623    0.9105    0.9357     26211\n",
      "       Fraud     0.9151    0.9644    0.9391     26231\n",
      "\n",
      "    accuracy                         0.9374     52442\n",
      "   macro avg     0.9387    0.9374    0.9374     52442\n",
      "weighted avg     0.9387    0.9374    0.9374     52442\n",
      "\n"
     ]
    }
   ],
   "source": [
    "y_pred_probs = nb.predict_proba(X_test)[:,1]\n",
    "\n",
    "y_nb_pred = y_pred_probs >= 0.5\n",
    "\n",
    "print('Accuracy: {:.4f}'.format(accuracy_score(y_test, y_nb_pred)))\n",
    "print(classification_report(y_test, y_nb_pred, target_names =['Non fraud', 'Fraud'], digits = 4))"
   ]
  },
  {
   "attachments": {},
   "cell_type": "markdown",
   "metadata": {},
   "source": [
    "### Linear SVM with SGD training"
   ]
  },
  {
   "cell_type": "code",
   "execution_count": 13,
   "metadata": {},
   "outputs": [
    {
     "data": {
      "text/html": [
       "<style>#sk-container-id-3 {color: black;background-color: white;}#sk-container-id-3 pre{padding: 0;}#sk-container-id-3 div.sk-toggleable {background-color: white;}#sk-container-id-3 label.sk-toggleable__label {cursor: pointer;display: block;width: 100%;margin-bottom: 0;padding: 0.3em;box-sizing: border-box;text-align: center;}#sk-container-id-3 label.sk-toggleable__label-arrow:before {content: \"▸\";float: left;margin-right: 0.25em;color: #696969;}#sk-container-id-3 label.sk-toggleable__label-arrow:hover:before {color: black;}#sk-container-id-3 div.sk-estimator:hover label.sk-toggleable__label-arrow:before {color: black;}#sk-container-id-3 div.sk-toggleable__content {max-height: 0;max-width: 0;overflow: hidden;text-align: left;background-color: #f0f8ff;}#sk-container-id-3 div.sk-toggleable__content pre {margin: 0.2em;color: black;border-radius: 0.25em;background-color: #f0f8ff;}#sk-container-id-3 input.sk-toggleable__control:checked~div.sk-toggleable__content {max-height: 200px;max-width: 100%;overflow: auto;}#sk-container-id-3 input.sk-toggleable__control:checked~label.sk-toggleable__label-arrow:before {content: \"▾\";}#sk-container-id-3 div.sk-estimator input.sk-toggleable__control:checked~label.sk-toggleable__label {background-color: #d4ebff;}#sk-container-id-3 div.sk-label input.sk-toggleable__control:checked~label.sk-toggleable__label {background-color: #d4ebff;}#sk-container-id-3 input.sk-hidden--visually {border: 0;clip: rect(1px 1px 1px 1px);clip: rect(1px, 1px, 1px, 1px);height: 1px;margin: -1px;overflow: hidden;padding: 0;position: absolute;width: 1px;}#sk-container-id-3 div.sk-estimator {font-family: monospace;background-color: #f0f8ff;border: 1px dotted black;border-radius: 0.25em;box-sizing: border-box;margin-bottom: 0.5em;}#sk-container-id-3 div.sk-estimator:hover {background-color: #d4ebff;}#sk-container-id-3 div.sk-parallel-item::after {content: \"\";width: 100%;border-bottom: 1px solid gray;flex-grow: 1;}#sk-container-id-3 div.sk-label:hover label.sk-toggleable__label {background-color: #d4ebff;}#sk-container-id-3 div.sk-serial::before {content: \"\";position: absolute;border-left: 1px solid gray;box-sizing: border-box;top: 0;bottom: 0;left: 50%;z-index: 0;}#sk-container-id-3 div.sk-serial {display: flex;flex-direction: column;align-items: center;background-color: white;padding-right: 0.2em;padding-left: 0.2em;position: relative;}#sk-container-id-3 div.sk-item {position: relative;z-index: 1;}#sk-container-id-3 div.sk-parallel {display: flex;align-items: stretch;justify-content: center;background-color: white;position: relative;}#sk-container-id-3 div.sk-item::before, #sk-container-id-3 div.sk-parallel-item::before {content: \"\";position: absolute;border-left: 1px solid gray;box-sizing: border-box;top: 0;bottom: 0;left: 50%;z-index: -1;}#sk-container-id-3 div.sk-parallel-item {display: flex;flex-direction: column;z-index: 1;position: relative;background-color: white;}#sk-container-id-3 div.sk-parallel-item:first-child::after {align-self: flex-end;width: 50%;}#sk-container-id-3 div.sk-parallel-item:last-child::after {align-self: flex-start;width: 50%;}#sk-container-id-3 div.sk-parallel-item:only-child::after {width: 0;}#sk-container-id-3 div.sk-dashed-wrapped {border: 1px dashed gray;margin: 0 0.4em 0.5em 0.4em;box-sizing: border-box;padding-bottom: 0.4em;background-color: white;}#sk-container-id-3 div.sk-label label {font-family: monospace;font-weight: bold;display: inline-block;line-height: 1.2em;}#sk-container-id-3 div.sk-label-container {text-align: center;}#sk-container-id-3 div.sk-container {/* jupyter's `normalize.less` sets `[hidden] { display: none; }` but bootstrap.min.css set `[hidden] { display: none !important; }` so we also need the `!important` here to be able to override the default hidden behavior on the sphinx rendered scikit-learn.org. See: https://github.com/scikit-learn/scikit-learn/issues/21755 */display: inline-block !important;position: relative;}#sk-container-id-3 div.sk-text-repr-fallback {display: none;}</style><div id=\"sk-container-id-3\" class=\"sk-top-container\"><div class=\"sk-text-repr-fallback\"><pre>SGDClassifier(max_iter=200)</pre><b>In a Jupyter environment, please rerun this cell to show the HTML representation or trust the notebook. <br />On GitHub, the HTML representation is unable to render, please try loading this page with nbviewer.org.</b></div><div class=\"sk-container\" hidden><div class=\"sk-item\"><div class=\"sk-estimator sk-toggleable\"><input class=\"sk-toggleable__control sk-hidden--visually\" id=\"sk-estimator-id-3\" type=\"checkbox\" checked><label for=\"sk-estimator-id-3\" class=\"sk-toggleable__label sk-toggleable__label-arrow\">SGDClassifier</label><div class=\"sk-toggleable__content\"><pre>SGDClassifier(max_iter=200)</pre></div></div></div></div></div>"
      ],
      "text/plain": [
       "SGDClassifier(max_iter=200)"
      ]
     },
     "execution_count": 13,
     "metadata": {},
     "output_type": "execute_result"
    }
   ],
   "source": [
    "# initialize the model\n",
    "sgd = SGDClassifier(loss = 'hinge', penalty = 'l2', max_iter = 200)\n",
    "\n",
    "sgd.fit(X_train, y_train)"
   ]
  },
  {
   "cell_type": "code",
   "execution_count": 217,
   "metadata": {},
   "outputs": [
    {
     "name": "stdout",
     "output_type": "stream",
     "text": [
      "Accuracy: 0.9383\n",
      "              precision    recall  f1-score   support\n",
      "\n",
      "   Non fraud     0.9439    0.9319    0.9378     26211\n",
      "       Fraud     0.9328    0.9446    0.9387     26231\n",
      "\n",
      "    accuracy                         0.9383     52442\n",
      "   macro avg     0.9383    0.9383    0.9383     52442\n",
      "weighted avg     0.9383    0.9383    0.9383     52442\n",
      "\n"
     ]
    }
   ],
   "source": [
    "y_sgd_pred = sgd.predict(X_test)\n",
    "\n",
    "print('Accuracy: {:.4f}'.format(accuracy_score(y_test, y_sgd_pred)))\n",
    "print(classification_report(y_test, y_sgd_pred, target_names =['Non fraud', 'Fraud'], digits = 4))"
   ]
  },
  {
   "attachments": {},
   "cell_type": "markdown",
   "metadata": {},
   "source": [
    "### Decision Tree"
   ]
  },
  {
   "cell_type": "code",
   "execution_count": 15,
   "metadata": {},
   "outputs": [
    {
     "data": {
      "text/html": [
       "<style>#sk-container-id-4 {color: black;background-color: white;}#sk-container-id-4 pre{padding: 0;}#sk-container-id-4 div.sk-toggleable {background-color: white;}#sk-container-id-4 label.sk-toggleable__label {cursor: pointer;display: block;width: 100%;margin-bottom: 0;padding: 0.3em;box-sizing: border-box;text-align: center;}#sk-container-id-4 label.sk-toggleable__label-arrow:before {content: \"▸\";float: left;margin-right: 0.25em;color: #696969;}#sk-container-id-4 label.sk-toggleable__label-arrow:hover:before {color: black;}#sk-container-id-4 div.sk-estimator:hover label.sk-toggleable__label-arrow:before {color: black;}#sk-container-id-4 div.sk-toggleable__content {max-height: 0;max-width: 0;overflow: hidden;text-align: left;background-color: #f0f8ff;}#sk-container-id-4 div.sk-toggleable__content pre {margin: 0.2em;color: black;border-radius: 0.25em;background-color: #f0f8ff;}#sk-container-id-4 input.sk-toggleable__control:checked~div.sk-toggleable__content {max-height: 200px;max-width: 100%;overflow: auto;}#sk-container-id-4 input.sk-toggleable__control:checked~label.sk-toggleable__label-arrow:before {content: \"▾\";}#sk-container-id-4 div.sk-estimator input.sk-toggleable__control:checked~label.sk-toggleable__label {background-color: #d4ebff;}#sk-container-id-4 div.sk-label input.sk-toggleable__control:checked~label.sk-toggleable__label {background-color: #d4ebff;}#sk-container-id-4 input.sk-hidden--visually {border: 0;clip: rect(1px 1px 1px 1px);clip: rect(1px, 1px, 1px, 1px);height: 1px;margin: -1px;overflow: hidden;padding: 0;position: absolute;width: 1px;}#sk-container-id-4 div.sk-estimator {font-family: monospace;background-color: #f0f8ff;border: 1px dotted black;border-radius: 0.25em;box-sizing: border-box;margin-bottom: 0.5em;}#sk-container-id-4 div.sk-estimator:hover {background-color: #d4ebff;}#sk-container-id-4 div.sk-parallel-item::after {content: \"\";width: 100%;border-bottom: 1px solid gray;flex-grow: 1;}#sk-container-id-4 div.sk-label:hover label.sk-toggleable__label {background-color: #d4ebff;}#sk-container-id-4 div.sk-serial::before {content: \"\";position: absolute;border-left: 1px solid gray;box-sizing: border-box;top: 0;bottom: 0;left: 50%;z-index: 0;}#sk-container-id-4 div.sk-serial {display: flex;flex-direction: column;align-items: center;background-color: white;padding-right: 0.2em;padding-left: 0.2em;position: relative;}#sk-container-id-4 div.sk-item {position: relative;z-index: 1;}#sk-container-id-4 div.sk-parallel {display: flex;align-items: stretch;justify-content: center;background-color: white;position: relative;}#sk-container-id-4 div.sk-item::before, #sk-container-id-4 div.sk-parallel-item::before {content: \"\";position: absolute;border-left: 1px solid gray;box-sizing: border-box;top: 0;bottom: 0;left: 50%;z-index: -1;}#sk-container-id-4 div.sk-parallel-item {display: flex;flex-direction: column;z-index: 1;position: relative;background-color: white;}#sk-container-id-4 div.sk-parallel-item:first-child::after {align-self: flex-end;width: 50%;}#sk-container-id-4 div.sk-parallel-item:last-child::after {align-self: flex-start;width: 50%;}#sk-container-id-4 div.sk-parallel-item:only-child::after {width: 0;}#sk-container-id-4 div.sk-dashed-wrapped {border: 1px dashed gray;margin: 0 0.4em 0.5em 0.4em;box-sizing: border-box;padding-bottom: 0.4em;background-color: white;}#sk-container-id-4 div.sk-label label {font-family: monospace;font-weight: bold;display: inline-block;line-height: 1.2em;}#sk-container-id-4 div.sk-label-container {text-align: center;}#sk-container-id-4 div.sk-container {/* jupyter's `normalize.less` sets `[hidden] { display: none; }` but bootstrap.min.css set `[hidden] { display: none !important; }` so we also need the `!important` here to be able to override the default hidden behavior on the sphinx rendered scikit-learn.org. See: https://github.com/scikit-learn/scikit-learn/issues/21755 */display: inline-block !important;position: relative;}#sk-container-id-4 div.sk-text-repr-fallback {display: none;}</style><div id=\"sk-container-id-4\" class=\"sk-top-container\"><div class=\"sk-text-repr-fallback\"><pre>DecisionTreeClassifier()</pre><b>In a Jupyter environment, please rerun this cell to show the HTML representation or trust the notebook. <br />On GitHub, the HTML representation is unable to render, please try loading this page with nbviewer.org.</b></div><div class=\"sk-container\" hidden><div class=\"sk-item\"><div class=\"sk-estimator sk-toggleable\"><input class=\"sk-toggleable__control sk-hidden--visually\" id=\"sk-estimator-id-4\" type=\"checkbox\" checked><label for=\"sk-estimator-id-4\" class=\"sk-toggleable__label sk-toggleable__label-arrow\">DecisionTreeClassifier</label><div class=\"sk-toggleable__content\"><pre>DecisionTreeClassifier()</pre></div></div></div></div></div>"
      ],
      "text/plain": [
       "DecisionTreeClassifier()"
      ]
     },
     "execution_count": 15,
     "metadata": {},
     "output_type": "execute_result"
    }
   ],
   "source": [
    "clf = DecisionTreeClassifier()\n",
    "\n",
    "clf.fit(X_train, y_train)"
   ]
  },
  {
   "cell_type": "code",
   "execution_count": 162,
   "metadata": {},
   "outputs": [
    {
     "name": "stdout",
     "output_type": "stream",
     "text": [
      "Accuracy: 0.9968\n",
      "              precision    recall  f1-score   support\n",
      "\n",
      " Non default     0.9937    1.0000    0.9968     26211\n",
      "     Default     1.0000    0.9937    0.9968     26231\n",
      "\n",
      "    accuracy                         0.9968     52442\n",
      "   macro avg     0.9969    0.9968    0.9968     52442\n",
      "weighted avg     0.9969    0.9968    0.9968     52442\n",
      "\n"
     ]
    }
   ],
   "source": [
    "# View performance of model\n",
    "y_pred_probs = clf.predict_proba(X_test)[:,1]\n",
    "\n",
    "y_train_pred_probs = clf.predict_proba(X_train)[:,1]\n",
    "\n",
    "y_clf_pred = y_pred_probs >= 0.5\n",
    "\n",
    "print('Accuracy: {:.4f}'.format(accuracy_score(y_test, y_clf_pred)))\n",
    "print(classification_report(y_test, y_clf_pred, target_names =['Non default', 'Default'], digits = 4))"
   ]
  },
  {
   "attachments": {},
   "cell_type": "markdown",
   "metadata": {},
   "source": [
    "### K-Nearest Neighbors"
   ]
  },
  {
   "cell_type": "code",
   "execution_count": 230,
   "metadata": {},
   "outputs": [
    {
     "data": {
      "text/html": [
       "<style>#sk-container-id-6 {color: black;background-color: white;}#sk-container-id-6 pre{padding: 0;}#sk-container-id-6 div.sk-toggleable {background-color: white;}#sk-container-id-6 label.sk-toggleable__label {cursor: pointer;display: block;width: 100%;margin-bottom: 0;padding: 0.3em;box-sizing: border-box;text-align: center;}#sk-container-id-6 label.sk-toggleable__label-arrow:before {content: \"▸\";float: left;margin-right: 0.25em;color: #696969;}#sk-container-id-6 label.sk-toggleable__label-arrow:hover:before {color: black;}#sk-container-id-6 div.sk-estimator:hover label.sk-toggleable__label-arrow:before {color: black;}#sk-container-id-6 div.sk-toggleable__content {max-height: 0;max-width: 0;overflow: hidden;text-align: left;background-color: #f0f8ff;}#sk-container-id-6 div.sk-toggleable__content pre {margin: 0.2em;color: black;border-radius: 0.25em;background-color: #f0f8ff;}#sk-container-id-6 input.sk-toggleable__control:checked~div.sk-toggleable__content {max-height: 200px;max-width: 100%;overflow: auto;}#sk-container-id-6 input.sk-toggleable__control:checked~label.sk-toggleable__label-arrow:before {content: \"▾\";}#sk-container-id-6 div.sk-estimator input.sk-toggleable__control:checked~label.sk-toggleable__label {background-color: #d4ebff;}#sk-container-id-6 div.sk-label input.sk-toggleable__control:checked~label.sk-toggleable__label {background-color: #d4ebff;}#sk-container-id-6 input.sk-hidden--visually {border: 0;clip: rect(1px 1px 1px 1px);clip: rect(1px, 1px, 1px, 1px);height: 1px;margin: -1px;overflow: hidden;padding: 0;position: absolute;width: 1px;}#sk-container-id-6 div.sk-estimator {font-family: monospace;background-color: #f0f8ff;border: 1px dotted black;border-radius: 0.25em;box-sizing: border-box;margin-bottom: 0.5em;}#sk-container-id-6 div.sk-estimator:hover {background-color: #d4ebff;}#sk-container-id-6 div.sk-parallel-item::after {content: \"\";width: 100%;border-bottom: 1px solid gray;flex-grow: 1;}#sk-container-id-6 div.sk-label:hover label.sk-toggleable__label {background-color: #d4ebff;}#sk-container-id-6 div.sk-serial::before {content: \"\";position: absolute;border-left: 1px solid gray;box-sizing: border-box;top: 0;bottom: 0;left: 50%;z-index: 0;}#sk-container-id-6 div.sk-serial {display: flex;flex-direction: column;align-items: center;background-color: white;padding-right: 0.2em;padding-left: 0.2em;position: relative;}#sk-container-id-6 div.sk-item {position: relative;z-index: 1;}#sk-container-id-6 div.sk-parallel {display: flex;align-items: stretch;justify-content: center;background-color: white;position: relative;}#sk-container-id-6 div.sk-item::before, #sk-container-id-6 div.sk-parallel-item::before {content: \"\";position: absolute;border-left: 1px solid gray;box-sizing: border-box;top: 0;bottom: 0;left: 50%;z-index: -1;}#sk-container-id-6 div.sk-parallel-item {display: flex;flex-direction: column;z-index: 1;position: relative;background-color: white;}#sk-container-id-6 div.sk-parallel-item:first-child::after {align-self: flex-end;width: 50%;}#sk-container-id-6 div.sk-parallel-item:last-child::after {align-self: flex-start;width: 50%;}#sk-container-id-6 div.sk-parallel-item:only-child::after {width: 0;}#sk-container-id-6 div.sk-dashed-wrapped {border: 1px dashed gray;margin: 0 0.4em 0.5em 0.4em;box-sizing: border-box;padding-bottom: 0.4em;background-color: white;}#sk-container-id-6 div.sk-label label {font-family: monospace;font-weight: bold;display: inline-block;line-height: 1.2em;}#sk-container-id-6 div.sk-label-container {text-align: center;}#sk-container-id-6 div.sk-container {/* jupyter's `normalize.less` sets `[hidden] { display: none; }` but bootstrap.min.css set `[hidden] { display: none !important; }` so we also need the `!important` here to be able to override the default hidden behavior on the sphinx rendered scikit-learn.org. See: https://github.com/scikit-learn/scikit-learn/issues/21755 */display: inline-block !important;position: relative;}#sk-container-id-6 div.sk-text-repr-fallback {display: none;}</style><div id=\"sk-container-id-6\" class=\"sk-top-container\"><div class=\"sk-text-repr-fallback\"><pre>KNeighborsClassifier(n_neighbors=4)</pre><b>In a Jupyter environment, please rerun this cell to show the HTML representation or trust the notebook. <br />On GitHub, the HTML representation is unable to render, please try loading this page with nbviewer.org.</b></div><div class=\"sk-container\" hidden><div class=\"sk-item\"><div class=\"sk-estimator sk-toggleable\"><input class=\"sk-toggleable__control sk-hidden--visually\" id=\"sk-estimator-id-6\" type=\"checkbox\" checked><label for=\"sk-estimator-id-6\" class=\"sk-toggleable__label sk-toggleable__label-arrow\">KNeighborsClassifier</label><div class=\"sk-toggleable__content\"><pre>KNeighborsClassifier(n_neighbors=4)</pre></div></div></div></div></div>"
      ],
      "text/plain": [
       "KNeighborsClassifier(n_neighbors=4)"
      ]
     },
     "execution_count": 230,
     "metadata": {},
     "output_type": "execute_result"
    }
   ],
   "source": [
    "knn = KNeighborsClassifier(n_neighbors = 4)\n",
    "\n",
    "knn.fit(X_train, y_train)"
   ]
  },
  {
   "cell_type": "code",
   "execution_count": 231,
   "metadata": {},
   "outputs": [
    {
     "name": "stdout",
     "output_type": "stream",
     "text": [
      "Accuracy: 0.9907\n",
      "              precision    recall  f1-score   support\n",
      "\n",
      "   Non fraud     0.9984    0.9829    0.9906     26211\n",
      "       Fraud     0.9831    0.9985    0.9908     26231\n",
      "\n",
      "    accuracy                         0.9907     52442\n",
      "   macro avg     0.9908    0.9907    0.9907     52442\n",
      "weighted avg     0.9908    0.9907    0.9907     52442\n",
      "\n"
     ]
    }
   ],
   "source": [
    "y_pred_probs = knn.predict_proba(X_test)[:,1]\n",
    "\n",
    "y_knn_pred = y_pred_probs >= 0.5\n",
    "\n",
    "print('Accuracy: {:.4f}'.format(accuracy_score(y_test, y_knn_pred)))\n",
    "print(classification_report(y_test, y_knn_pred, target_names =['Non fraud', 'Fraud'], digits = 4))"
   ]
  },
  {
   "attachments": {},
   "cell_type": "markdown",
   "metadata": {},
   "source": [
    "### \"Dumb\" Experts"
   ]
  },
  {
   "cell_type": "code",
   "execution_count": 19,
   "metadata": {},
   "outputs": [],
   "source": [
    "# constantly predicting True/False\n",
    "class DumbGuesser:\n",
    "    def __init__(self, guess = False):\n",
    "        self.guess = guess\n",
    "    def predict(self):\n",
    "        return self.guess\n",
    "\n",
    "\n",
    "class RandomGuesser:\n",
    "    def __init__(self):\n",
    "        self.rand = np.random\n",
    "    def predict(self):\n",
    "        return self.rand.rand() >= 0.5"
   ]
  },
  {
   "cell_type": "code",
   "execution_count": 20,
   "metadata": {},
   "outputs": [],
   "source": [
    "dbgt = DumbGuesser(True)\n",
    "dbgt.predict()\n",
    "dbgf = DumbGuesser()\n",
    "dbgf.predict()\n",
    "rdg = RandomGuesser()"
   ]
  },
  {
   "attachments": {},
   "cell_type": "markdown",
   "metadata": {},
   "source": [
    "## Baseline Method:\n",
    "### WMA and RWM directly predicting y_test"
   ]
  },
  {
   "cell_type": "code",
   "execution_count": 206,
   "metadata": {},
   "outputs": [],
   "source": [
    "# numbers of experts, rounds, mistakes\n",
    "N = 8\n",
    "T = len(y_test)\n",
    "\n",
    "# lists for storing expert predictions and our predictions\n",
    "yhat = []\n",
    "expert_y = [ [] for i in range(N) ]\n",
    "\n",
    "# picking a practical value for epsilon to be used in both algorithms\n",
    "epsilon = (np.log(N)/T)**(1/2)\n",
    "\n",
    "# reading in expert predictions and actual y\n",
    "expert_y[0] = lr.predict(X_test)\n",
    "expert_y[1] = nb.predict(X_test)\n",
    "expert_y[2] = sgd.predict(X_test)\n",
    "expert_y[3] = clf.predict(X_test)\n",
    "expert_y[4] = knn.predict(X_test)\n",
    "for i in range(len(X_test)):\n",
    "\texpert_y[5].append(int(dbgt.predict()))\n",
    "\texpert_y[6].append(int(dbgt.predict()))\n",
    "\texpert_y[7].append(int(rdg.predict()))\n"
   ]
  },
  {
   "cell_type": "code",
   "execution_count": 207,
   "metadata": {},
   "outputs": [
    {
     "name": "stdout",
     "output_type": "stream",
     "text": [
      "Final weights: [4.808540950768944e-09, 9.97486192985751e-10, 1.3087993267574909e-09, 0.35042551156339935, 0.0640650698520032, 1.238114808371126e-72, 1.238114808371126e-72, 2.779175858027444e-72]\n",
      "Total mistakes made by WMA: 220\n",
      "WMA accuracy:0.9958048892109378\n"
     ]
    }
   ],
   "source": [
    "# WMA\n",
    "wma_mistakes = 0\n",
    "\n",
    "expert_mistakes = [ 0 for i in range(N) ]\n",
    "\n",
    "# initializing weights\n",
    "w = [ 1 for i in range(N) ]\n",
    "\n",
    "for t in range(T):\n",
    "\t\n",
    "\tW = sum(w)\n",
    "\twf = 0\n",
    "\tfor i in range(N):\n",
    "\t\twf += w[i]*expert_y[i][t]\n",
    "\tif wf/W >=0.5:\n",
    "\t\tyhat.append(1)\n",
    "\telse:\n",
    "\t\tyhat.append(0)\n",
    "\t# checking if the prediction is right\n",
    "\tif yhat[t] != y_test[t]:\n",
    "\t\twma_mistakes = wma_mistakes + 1\n",
    "\t# updating expert weights and count mistakes\n",
    "\tfor i in range(N):\n",
    "\t\tif expert_y[i][t] != y_test[t]:\n",
    "\t\t\tw[i] = w[i]*(1-epsilon)\n",
    "\t\t\texpert_mistakes[i] = expert_mistakes[i] + 1\n",
    "\n",
    "print(\"Final weights: {}\".format(w))\n",
    "print(\"Total mistakes made by WMA: {}\".format(wma_mistakes))\n",
    "wma_accuracy = (T-wma_mistakes)/T\n",
    "print(\"WMA accuracy:{}\".format(wma_accuracy))"
   ]
  },
  {
   "cell_type": "code",
   "execution_count": 202,
   "metadata": {},
   "outputs": [
    {
     "name": "stdout",
     "output_type": "stream",
     "text": [
      "Expected mistakes made by RWM: 473.57\n",
      "Expected accuracy of RWM: 0.9909696426528355\n"
     ]
    }
   ],
   "source": [
    "# RWM\n",
    "rwm_mistakes = []\n",
    "# number of times to run it\n",
    "K=100\n",
    "\n",
    "for k in range(K):\n",
    "\t# reset weights, add mistake counter before starting\n",
    "\tw = [ 1 for i in range(N) ]\n",
    "\trwm_mistakes.append(0)\n",
    "\n",
    "\t# moving through rounds, making predictions and updating weights as necessary\n",
    "\tfor t in range(T):\n",
    "\t\t# calculating collective weight of all experts\n",
    "\t\tW = sum(w)\n",
    "\t\t# setting up probability distribution for picking expert\n",
    "\t\texpert_probs = []\n",
    "\t\tfor i in range(N):\n",
    "\t\t\texpert_probs.append(w[i]/W)\n",
    "\t\t# randomly choosing an expert's prediction to use as your own\n",
    "\t\tchosen_expert = np.random.choice(N, 1, p=expert_probs)\n",
    "\t\t# checking if that expert (and thus your prediction) was right\n",
    "\t\tif expert_y[chosen_expert[0]][t] != y_test[t]:\n",
    "\t\t\trwm_mistakes[k] = rwm_mistakes[k] + 1\n",
    "\t\t# updating expert weights\n",
    "\t\tfor i in range(N):\n",
    "\t\t\tif expert_y[i][t] != y_test[t]:\n",
    "\t\t\t\tw[i] = w[i]*(1-epsilon)\n",
    "\n",
    "print(\"Expected mistakes made by RWM: {}\".format(np.average(rwm_mistakes)))\n",
    "rwm_accuracy = (T-np.average(rwm_mistakes))/T\n",
    "print(\"Expected accuracy of RWM: {}\".format(rwm_accuracy))"
   ]
  },
  {
   "cell_type": "code",
   "execution_count": 232,
   "metadata": {},
   "outputs": [
    {
     "name": "stdout",
     "output_type": "stream",
     "text": [
      "0.9421837458525609\n",
      "0.9374356431867588\n",
      "0.9382555966591664\n",
      "0.9968345982227985\n",
      "0.9917051218488997\n",
      "0.5001906868540483\n",
      "0.5001906868540483\n",
      "0.5026314785858663\n"
     ]
    }
   ],
   "source": [
    "# Check accuracy of each expert\n",
    "for i in expert_mistakes:\n",
    "    print((T-i) / T)"
   ]
  },
  {
   "attachments": {},
   "cell_type": "markdown",
   "metadata": {},
   "source": [
    "### Sanity Check: Does the result match what we learnt in class?"
   ]
  },
  {
   "attachments": {},
   "cell_type": "markdown",
   "metadata": {},
   "source": [
    "For WMA:\\\n",
    "$M_T(WMA)\\leq\\frac{2ln(N)}{\\epsilon}+2(1+\\epsilon)M_T(i^*)$"
   ]
  },
  {
   "cell_type": "code",
   "execution_count": 210,
   "metadata": {},
   "outputs": [
    {
     "data": {
      "text/plain": [
       "166"
      ]
     },
     "execution_count": 210,
     "metadata": {},
     "output_type": "execute_result"
    }
   ],
   "source": [
    "Mi_star = (expert_y[np.argmin(expert_mistakes)] != y_test).sum()\n",
    "Mi_star"
   ]
  },
  {
   "cell_type": "code",
   "execution_count": 211,
   "metadata": {},
   "outputs": [
    {
     "data": {
      "text/plain": [
       "True"
      ]
     },
     "execution_count": 211,
     "metadata": {},
     "output_type": "execute_result"
    }
   ],
   "source": [
    "wma_mistakes <= 2 * np.log(N) / epsilon + 2 * (1 + epsilon) * Mi_star"
   ]
  },
  {
   "attachments": {},
   "cell_type": "markdown",
   "metadata": {},
   "source": [
    "For RWM:\\\n",
    "$E[M_T(RWM)]\\leq\\frac{ln(N)}{\\epsilon}+(1+\\epsilon)M_T(i^*)$"
   ]
  },
  {
   "cell_type": "code",
   "execution_count": 212,
   "metadata": {},
   "outputs": [
    {
     "data": {
      "text/plain": [
       "True"
      ]
     },
     "execution_count": 212,
     "metadata": {},
     "output_type": "execute_result"
    }
   ],
   "source": [
    "np.average(rwm_mistakes) <= np.log(N) / epsilon + (1 + epsilon) * Mi_star"
   ]
  },
  {
   "cell_type": "code",
   "execution_count": 220,
   "metadata": {},
   "outputs": [
    {
     "data": {
      "text/plain": [
       "[3032, 3281, 3238, 166, 435, 26211, 26211, 26083]"
      ]
     },
     "execution_count": 220,
     "metadata": {},
     "output_type": "execute_result"
    }
   ],
   "source": [
    "expert_mistakes"
   ]
  },
  {
   "cell_type": "code",
   "execution_count": 225,
   "metadata": {},
   "outputs": [
    {
     "data": {
      "text/plain": [
       "0.49736852141413374"
      ]
     },
     "execution_count": 225,
     "metadata": {},
     "output_type": "execute_result"
    }
   ],
   "source": [
    "26083/len(y_test)"
   ]
  },
  {
   "attachments": {},
   "cell_type": "markdown",
   "metadata": {},
   "source": [
    "Looks like our results do match the upper bound statement made in class. Let's put all the outputs in a table."
   ]
  },
  {
   "attachments": {},
   "cell_type": "markdown",
   "metadata": {},
   "source": [
    "| Method   |      Accuracy |  # of Mistakes |\n",
    "|----------|:-------------:|------:|\n",
    "| Logistic Regression |  94.22% | 3032 |\n",
    "| Naive Bayes |  93.74%     |   3281 |\n",
    "| SVM | 93.83% |    3238 |\n",
    "| Decision Tree |  99.68%    | 166 |\n",
    "| KNN |  99.17%    | 435 |\n",
    "| Dumb Expert: True(False) | 50% | 26211 |\n",
    "| Dumb Expert: Random | 49.73% | 26083 |\n",
    "| <strong>WMA | <strong>99.58% | <strong>220 |\n",
    "| <strong>RWM(Expected) | <strong>99.09% | <strong>473.57 |"
   ]
  },
  {
   "attachments": {},
   "cell_type": "markdown",
   "metadata": {},
   "source": [
    "As the table shows, Both WMA and RWM do a pretty good job in classifying whether a transaction is fraud, and they both perform slightly worse than the best expert (decision tree in this context), but are able to outperform almost all other experts. In a real-life setting, if a decision maker is hearing from multiple experts, he/she wouldn't know the \"algorithm\" each expert uses to produce their predictions, and this experiment shows that decision maker can do almost as good as the best expert he/she is hearing from using WMA/RWM."
   ]
  },
  {
   "attachments": {},
   "cell_type": "markdown",
   "metadata": {},
   "source": [
    "### Can we potentially improve the performance of WMA?"
   ]
  },
  {
   "attachments": {},
   "cell_type": "markdown",
   "metadata": {},
   "source": [
    "Currently, the WMA algorithm is doing slightly worse than the best expert. Can we modify the algorithm to make it perform better/closer to the best expert? Suppose the decision maker is confident in actively following the best expert so far, the algorithm can be modified by giving more penalty to the experts who make mistake and adding a step of incrementing the weight of the currently observed best expert at each iteration. We check if this would make the algorithm perform better."
   ]
  },
  {
   "cell_type": "code",
   "execution_count": 235,
   "metadata": {},
   "outputs": [
    {
     "name": "stdout",
     "output_type": "stream",
     "text": [
      "Modified WMA mistakes: 173\n",
      "Modified WMA accuracy: 0.9967011174249647\n"
     ]
    }
   ],
   "source": [
    "# numbers of experts, rounds, mistakes\n",
    "N = 8\n",
    "T = len(y_test)\n",
    "wma_mistakes = 0\n",
    "rwm_mistakes = []\n",
    "expert_mistakes = [ 0 for i in range(N) ]\n",
    "\n",
    "# lists for storing expert predictions and our predictions\n",
    "yhat = []\n",
    "expert_y = [ [] for i in range(N) ]\n",
    "\n",
    "# picking a practical value for epsilon to be used in both algorithms\n",
    "epsilon = (np.log(N)/T)**(1/2)\n",
    "\n",
    "# reading in expert predictions and actual y\n",
    "expert_y[0] = lr.predict(X_test)\n",
    "expert_y[1] = nb.predict(X_test)\n",
    "expert_y[2] = sgd.predict(X_test)\n",
    "expert_y[3] = clf.predict(X_test)\n",
    "expert_y[4] = knn.predict(X_test)\n",
    "for i in range(len(X_test)):\n",
    "\texpert_y[5].append(int(dbgt.predict()))\n",
    "\texpert_y[6].append(int(dbgt.predict()))\n",
    "\texpert_y[7].append(int(rdg.predict()))\n",
    "\t\n",
    "\n",
    "w = [ 1 for i in range(N) ]\n",
    "\n",
    "\n",
    "for t in range(T):\n",
    "\t\n",
    "\tW = sum(w)\n",
    "\twf = 0\n",
    "\tfor i in range(N):\n",
    "\t\twf += w[i]*expert_y[i][t]\n",
    "\tif wf/W >=0.5:\n",
    "\t\tyhat.append(1)\n",
    "\telse:\n",
    "\t\tyhat.append(0)\n",
    "\t# checking if the prediction is right\n",
    "\tif yhat[t] != y_test[t]:\n",
    "\t\twma_mistakes = wma_mistakes + 1\n",
    "\t# updating expert weights and count mistakes\n",
    "\tfor i in range(N):\n",
    "\t\tif expert_y[i][t] != y_test[t]:\n",
    "\t\t\tw[i] = w[i]*(1-2 * epsilon)\n",
    "\t\t\texpert_mistakes[i] = expert_mistakes[i] + 1\n",
    "\t\t# For each expert that was correct, if it is the best one so far, add its weight\n",
    "\t\telse:\n",
    "\t\t\tif i == np.argmin(expert_mistakes):\n",
    "\t\t\t\tw[i] = w[i] * (1 + 2 * epsilon)\n",
    "print(\"Modified WMA mistakes: {}\".format(wma_mistakes))\n",
    "wma_accuracy = (T-wma_mistakes)/T\n",
    "print(\"Modified WMA accuracy: {}\".format((wma_accuracy)))"
   ]
  },
  {
   "attachments": {},
   "cell_type": "markdown",
   "metadata": {},
   "source": [
    "The modified WMA still doesn't outperform the best expert, but is pretty close. It reduced the number of mistakes of the algorithm by almost 60 and made only 7 more mistakes than the best expert. Although this modification works in this scenario, we don't think it would always work, especially when the best expert is actually learning while the data is being provided (making more mistakes at the start of the algorithm)"
   ]
  },
  {
   "attachments": {},
   "cell_type": "markdown",
   "metadata": {},
   "source": [
    "## Studying the Influence of \"Noise\""
   ]
  },
  {
   "attachments": {},
   "cell_type": "markdown",
   "metadata": {},
   "source": [
    "We're also interested in learning the potential influence of noise(additional \"dumb\" experts). We first build a list of 105 experts containing the 5 \"smart\" experts (ML models) and 100 \"dumb\" experts (random guessers)"
   ]
  },
  {
   "cell_type": "code",
   "execution_count": 241,
   "metadata": {},
   "outputs": [],
   "source": [
    "# numbers of experts, rounds, mistakes\n",
    "N = 105\n",
    "T = len(y_test)\n",
    "wma_mistakes = 0\n",
    "rwm_mistakes = []\n",
    "expert_mistakes = [ 0 for i in range(N) ]\n",
    "\n",
    "# lists for storing expert predictions and our predictions\n",
    "yhat = []\n",
    "expert_y = [ [] for i in range(N) ]\n",
    "\n",
    "# picking a practical value for epsilon to be used in both algorithms\n",
    "epsilon = (np.log(N)/T)**(1/2)\n",
    "\n",
    "# reading in expert predictions and actual y\n",
    "expert_y[0] = lr.predict(X_test)\n",
    "expert_y[1] = nb.predict(X_test)\n",
    "expert_y[2] = sgd.predict(X_test)\n",
    "expert_y[3] = clf.predict(X_test)\n",
    "expert_y[4] = knn.predict(X_test)\n",
    "for i in range(len(X_test)):\n",
    "\tfor j in range(5, 105):\n",
    "\t\texpert_y[j].append(rdg.predict())"
   ]
  },
  {
   "attachments": {},
   "cell_type": "markdown",
   "metadata": {},
   "source": [
    "We test the effect of noise on WMA first."
   ]
  },
  {
   "cell_type": "code",
   "execution_count": 242,
   "metadata": {},
   "outputs": [],
   "source": [
    "def test_WMA(experts_y, T):\n",
    "    mistakes = []\n",
    "    for i in range(5, 106, 20):\n",
    "        N = i\n",
    "        expert_mistakes = [ 0 for i in range(N) ]\n",
    "        wma_mistakes = 0\n",
    "        cumul_mistakes = []\n",
    "        exp_y = experts_y[:i]\n",
    "        yhat = []\n",
    "        w = [ 1 for i in range(N) ]\n",
    "        for t in range(T):\n",
    "            W = sum(w)\n",
    "            wf = 0\n",
    "            for i in range(N):\n",
    "                wf += w[i]*exp_y[i][t]\n",
    "            if wf/W >=0.5:\n",
    "                yhat.append(1)\n",
    "            else:\n",
    "                yhat.append(0)\n",
    "            # checking if the prediction is right\n",
    "            if yhat[t] != y_test[t]:\n",
    "                wma_mistakes = wma_mistakes + 1\n",
    "            # updating expert weights and count mistakes\n",
    "            for i in range(N):\n",
    "                if exp_y[i][t] != y_test[t]:\n",
    "                    w[i] = w[i]*(1-epsilon)\n",
    "                    expert_mistakes[i] = expert_mistakes[i] + 1\n",
    "            cumul_mistakes.append(wma_mistakes)\n",
    "        plt.plot(cumul_mistakes, label = f'{N-5} dumb experts')\n",
    "        mistakes.append(wma_mistakes)\n",
    "    plt.legend()\n",
    "    plt.show()\n",
    "    return mistakes"
   ]
  },
  {
   "cell_type": "code",
   "execution_count": 243,
   "metadata": {},
   "outputs": [
    {
     "data": {
      "image/png": "[encoded data removed]",
      "text/plain": [
       "<Figure size 640x480 with 1 Axes>"
      ]
     },
     "metadata": {},
     "output_type": "display_data"
    },
    {
     "name": "stdout",
     "output_type": "stream",
     "text": [
      "[199, 209, 217, 230, 236, 245]\n"
     ]
    }
   ],
   "source": [
    "print(test_WMA(expert_y, len(y_test)))"
   ]
  },
  {
   "cell_type": "code",
   "execution_count": 248,
   "metadata": {},
   "outputs": [
    {
     "data": {
      "image/png": "[encoded data removed]",
      "text/plain": [
       "<Figure size 640x480 with 1 Axes>"
      ]
     },
     "metadata": {},
     "output_type": "display_data"
    },
    {
     "name": "stdout",
     "output_type": "stream",
     "text": [
      "[22, 32, 40, 54, 58, 67]\n"
     ]
    }
   ],
   "source": [
    "print(test_WMA(expert_y, 500))"
   ]
  },
  {
   "attachments": {},
   "cell_type": "markdown",
   "metadata": {},
   "source": [
    "The plot shows that the trend of the experts making mistakes are almost the same, but the more noise there are, the more mistakes the algorithm tends to make at the beginning of the algorithm, ultimately leading to more overall mistakes."
   ]
  },
  {
   "cell_type": "code",
   "execution_count": 113,
   "metadata": {},
   "outputs": [],
   "source": [
    "def test_rwm(experts_y):\n",
    "\tT = len(y_test)\n",
    "\texp_mistakes = []\n",
    "\tfor i in range(5, 106, 20):\n",
    "\t\texp_y = experts_y[:i]\n",
    "\t\tN = i\n",
    "\t\trwm_mistakes = []\n",
    "\t\tK = 100\n",
    "\t\tfor k in range(K):\n",
    "\t\t\t# reset weights, add mistake counter before starting\n",
    "\t\t\tw = [ 1 for i in range(N) ]\n",
    "\t\t\trwm_mistakes.append(0)\n",
    "\n",
    "\t\t\t# moving through rounds, making predictions and updating weights as necessary\n",
    "\t\t\tfor t in range(T):\n",
    "\t\t\t\t# calculating collective weight of all experts\n",
    "\t\t\t\tW = sum(w)\n",
    "\t\t\t\t# setting up probability distribution for picking expert\n",
    "\t\t\t\texpert_probs = []\n",
    "\t\t\t\tfor i in range(N):\n",
    "\t\t\t\t\texpert_probs.append(w[i]/W)\n",
    "\t\t\t\t# randomly choosing an expert's prediction to use as your own\n",
    "\t\t\t\tchosen_expert = np.random.choice(N, 1, p=expert_probs)\n",
    "\t\t\t\t# checking if that expert (and thus your prediction) was right\n",
    "\t\t\t\tif exp_y[chosen_expert[0]][t] != y_test[t]:\n",
    "\t\t\t\t\trwm_mistakes[k] = rwm_mistakes[k] + 1\n",
    "\t\t\t\t# updating expert weights\n",
    "\t\t\t\tfor i in range(N):\n",
    "\t\t\t\t\tif exp_y[i][t] != y_test[t]:\n",
    "\t\t\t\t\t\tw[i] = w[i]*(1-epsilon)\n",
    "\t\texp_mistakes.append(np.mean(rwm_mistakes))\n",
    "\treturn exp_mistakes"
   ]
  },
  {
   "cell_type": "code",
   "execution_count": 114,
   "metadata": {},
   "outputs": [
    {
     "data": {
      "text/plain": [
       "[328.55, 498.2, 564.95, 598.35, 624.65, 649.6]"
      ]
     },
     "execution_count": 114,
     "metadata": {},
     "output_type": "execute_result"
    }
   ],
   "source": [
    "expected_mistakes = test_rwm(expert_y)\n",
    "expected_mistakes"
   ]
  },
  {
   "cell_type": "code",
   "execution_count": 147,
   "metadata": {},
   "outputs": [],
   "source": [
    "num_experts = [5, 25, 45, 65, 85, 105]\n",
    "num_noise = ['0', '20', '40', '60', '80', '100']"
   ]
  },
  {
   "cell_type": "code",
   "execution_count": 129,
   "metadata": {},
   "outputs": [],
   "source": [
    "# mistakes made by the best expert\n",
    "Mi_star = (expert_y[3] != y_test).sum()"
   ]
  },
  {
   "cell_type": "code",
   "execution_count": 140,
   "metadata": {},
   "outputs": [
    {
     "data": {
      "text/plain": [
       "array([ True,  True,  True,  True,  True,  True])"
      ]
     },
     "execution_count": 140,
     "metadata": {},
     "output_type": "execute_result"
    }
   ],
   "source": [
    "# check for upper bound\n",
    "expected_mistakes <= (np.log(num_experts) / epsilon + (1 + epsilon) * Mi_star)"
   ]
  },
  {
   "cell_type": "code",
   "execution_count": 150,
   "metadata": {},
   "outputs": [
    {
     "data": {
      "text/plain": [
       "[<matplotlib.lines.Line2D at 0x245d03cfd00>]"
      ]
     },
     "execution_count": 150,
     "metadata": {},
     "output_type": "execute_result"
    },
    {
     "data": {
      "image/png": "[encoded data removed]",
      "text/plain": [
       "<Figure size 640x480 with 1 Axes>"
      ]
     },
     "metadata": {},
     "output_type": "display_data"
    }
   ],
   "source": [
    "plt.bar(num_noise, expected_mistakes)\n",
    "plt.xlabel('Number of Noise')\n",
    "plt.ylabel('Expected Mistakes')\n",
    "plt.title('Expected Mistakes of RWM vs Number of Noise')\n",
    "plt.plot(num_noise, expected_mistakes, color = 'red', linewidth = 2)"
   ]
  },
  {
   "attachments": {},
   "cell_type": "markdown",
   "metadata": {},
   "source": [
    "Since RWM is a randomized algorithm, we don't plot its number of mistakes over time, but rather the expected mistakes for different number of noise in the experts. The plot shows that as the number of noise increases, the expected mistake of the algorithm also increases at a almost logarithmic rate. This makes sense because the number of mistakes made by the best expert is unchanged, adding noise would increase N, increasing expected mistakes at a $ln(N)$ rate.\\\n",
    "It is also noticable that the effect on mistakes for RWM is way larger than for WMA. With 100 noise, WMA made about 50 more mistakes while RWM was expected to make 300 more mistakes. This is probably because RWM is randomized, and adding more noise increase the total probability of any noise being selected."
   ]
  }
 ],
 "metadata": {
  "kernelspec": {
   "display_name": "Python 3",
   "language": "python",
   "name": "python3"
  },
  "language_info": {
   "codemirror_mode": {
    "name": "ipython",
    "version": 3
   },
   "file_extension": ".py",
   "mimetype": "text/x-python",
   "name": "python",
   "nbconvert_exporter": "python",
   "pygments_lexer": "ipython3",
   "version": "3.10.5"
  },
  "vscode": {
   "interpreter": {
    "hash": "7219204750db2df2785c324d0825d05f52b9cbff15be44d05c04a8b61df450e6"
   }
  }
 },
 "nbformat": 4,
 "nbformat_minor": 4
}
